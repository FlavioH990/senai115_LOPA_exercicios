{
 "cells": [
  {
   "cell_type": "markdown",
   "metadata": {},
   "source": [
    "##19. Faça um programa que receba duas notas de seis alunos. Calcule e mostre:\n",
    " A média aritmética das duas notas de cada aluno; e\n",
    " A mensagem que está na tabela a seguir:\n",
    "Média Aritmética Mensagem\n",
    "Até 3 Reprovado\n",
    "Entre 3 e 7 Exame\n",
    "De 7 para cima Aprovado\n",
    " O total de alunos aprovados;\n",
    " O total de alunos de exame;\n",
    " O total de alunos reprovados;\n",
    " A média da classe."
   ]
  },
  {
   "cell_type": "code",
   "execution_count": 1,
   "metadata": {},
   "outputs": [
    {
     "name": "stdout",
     "output_type": "stream",
     "text": [
      "Alunos1\n",
      "Alunos2\n",
      "Alunos3\n",
      "Alunos4\n",
      "Alunos5\n",
      "Alunos6\n"
     ]
    }
   ],
   "source": [
    "ContAlunos = 1\n",
    "qtAlunos = 6\n",
    "qtNotas = 2\n",
    "qtdaprovados = 0\n",
    "qtdReprovados = 0\n",
    "qtdExame = 0\n",
    "\n",
    "\n",
    "while ContAlunos <=qtAlunos:\n",
    "    print(f\"Alunos{ContAlunos}\")\n",
    "    \n",
    "    nota1 = int(input(\"Digite a primeira nota: \"))\n",
    "    nota2 = int(input(\"Digite a segunda nota: \"))\n",
    "    \n",
    "    media = (nota1 + nota2) / qtNotas\n",
    "    \n",
    "    if media < 3:\n",
    "        print(\"Reprovado\")\n",
    "    elif media >= 3 and media < 7:\n",
    "        print(\"Exame\")\n",
    "        qtdExame += 1\n",
    "        \n",
    "    elif media >= 7:\n",
    "        print(\"Aprovado\")\n",
    "        qtdaprovados += 1\n",
    "        \n",
    "     \n",
    "    ContAlunos += 1\n",
    "    \n",
    "\n",
    "\n",
    "    \n",
    "\n"
   ]
  }
 ],
 "metadata": {
  "kernelspec": {
   "display_name": "Python 3",
   "language": "python",
   "name": "python3"
  },
  "language_info": {
   "codemirror_mode": {
    "name": "ipython",
    "version": 3
   },
   "file_extension": ".py",
   "mimetype": "text/x-python",
   "name": "python",
   "nbconvert_exporter": "python",
   "pygments_lexer": "ipython3",
   "version": "3.13.2"
  }
 },
 "nbformat": 4,
 "nbformat_minor": 2
}
